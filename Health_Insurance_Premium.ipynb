{
  "nbformat": 4,
  "nbformat_minor": 0,
  "metadata": {
    "colab": {
      "provenance": [],
      "collapsed_sections": [],
      "authorship_tag": "ABX9TyOY7cvStEaucG0uTkAKOZdC",
      "include_colab_link": true
    },
    "kernelspec": {
      "name": "python3",
      "display_name": "Python 3"
    },
    "language_info": {
      "name": "python"
    }
  },
  "cells": [
    {
      "cell_type": "markdown",
      "metadata": {
        "id": "view-in-github",
        "colab_type": "text"
      },
      "source": [
        "<a href=\"https://colab.research.google.com/github/Aishwarya-RaviK/Regression_Project-Medical-Insurance-/blob/main/Health_Insurance_Premium.ipynb\" target=\"_parent\"><img src=\"https://colab.research.google.com/assets/colab-badge.svg\" alt=\"Open In Colab\"/></a>"
      ]
    },
    {
      "cell_type": "markdown",
      "source": [
        "# **Health Insurance Premium Prediction**"
      ],
      "metadata": {
        "id": "k3tbmajqBMkU"
      }
    },
    {
      "cell_type": "markdown",
      "source": [
        "![insurance.image.webp](data:image/webp;base64,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)"
      ],
      "metadata": {
        "id": "jBh1AJQG5n1I"
      }
    },
    {
      "cell_type": "markdown",
      "source": [
        "Health insurance or medical insurance is a type of insurance that covers the whole or a part of the risk of a person incurring medical expenses."
      ],
      "metadata": {
        "id": "vu5emWeR5r7l"
      }
    },
    {
      "cell_type": "markdown",
      "source": [
        "**Importing neccessary libraries**"
      ],
      "metadata": {
        "id": "F4vPr6niBuWG"
      }
    },
    {
      "cell_type": "code",
      "source": [
        "import pandas as pd\n",
        "import numpy as np\n",
        "import matplotlib.pyplot as plt\n",
        "import seaborn as sns"
      ],
      "metadata": {
        "id": "LZ1SDuRABSOg"
      },
      "execution_count": null,
      "outputs": []
    },
    {
      "cell_type": "markdown",
      "source": [
        "**Loading the data in dataframe**"
      ],
      "metadata": {
        "id": "1vFCjqkSBzQ7"
      }
    },
    {
      "cell_type": "code",
      "source": [
        "df=pd.read_csv(\"/content/insurance.csv\")"
      ],
      "metadata": {
        "id": "AyAzh6QjBhD0"
      },
      "execution_count": null,
      "outputs": []
    },
    {
      "cell_type": "code",
      "source": [
        "df.head()"
      ],
      "metadata": {
        "colab": {
          "base_uri": "https://localhost:8080/",
          "height": 206
        },
        "id": "BU9uBuMPBlct",
        "outputId": "ee3c1301-624f-4989-b92a-3e4cffa55c89"
      },
      "execution_count": null,
      "outputs": [
        {
          "output_type": "execute_result",
          "data": {
            "text/plain": [
              "   age     sex     bmi  children smoker     region      charges\n",
              "0   19  female  27.900         0    yes  southwest  16884.92400\n",
              "1   18    male  33.770         1     no  southeast   1725.55230\n",
              "2   28    male  33.000         3     no  southeast   4449.46200\n",
              "3   33    male  22.705         0     no  northwest  21984.47061\n",
              "4   32    male  28.880         0     no  northwest   3866.85520"
            ],
            "text/html": [
              "\n",
              "  <div id=\"df-7cc2a647-54eb-4be7-bc50-99a08f76b0ef\">\n",
              "    <div class=\"colab-df-container\">\n",
              "      <div>\n",
              "<style scoped>\n",
              "    .dataframe tbody tr th:only-of-type {\n",
              "        vertical-align: middle;\n",
              "    }\n",
              "\n",
              "    .dataframe tbody tr th {\n",
              "        vertical-align: top;\n",
              "    }\n",
              "\n",
              "    .dataframe thead th {\n",
              "        text-align: right;\n",
              "    }\n",
              "</style>\n",
              "<table border=\"1\" class=\"dataframe\">\n",
              "  <thead>\n",
              "    <tr style=\"text-align: right;\">\n",
              "      <th></th>\n",
              "      <th>age</th>\n",
              "      <th>sex</th>\n",
              "      <th>bmi</th>\n",
              "      <th>children</th>\n",
              "      <th>smoker</th>\n",
              "      <th>region</th>\n",
              "      <th>charges</th>\n",
              "    </tr>\n",
              "  </thead>\n",
              "  <tbody>\n",
              "    <tr>\n",
              "      <th>0</th>\n",
              "      <td>19</td>\n",
              "      <td>female</td>\n",
              "      <td>27.900</td>\n",
              "      <td>0</td>\n",
              "      <td>yes</td>\n",
              "      <td>southwest</td>\n",
              "      <td>16884.92400</td>\n",
              "    </tr>\n",
              "    <tr>\n",
              "      <th>1</th>\n",
              "      <td>18</td>\n",
              "      <td>male</td>\n",
              "      <td>33.770</td>\n",
              "      <td>1</td>\n",
              "      <td>no</td>\n",
              "      <td>southeast</td>\n",
              "      <td>1725.55230</td>\n",
              "    </tr>\n",
              "    <tr>\n",
              "      <th>2</th>\n",
              "      <td>28</td>\n",
              "      <td>male</td>\n",
              "      <td>33.000</td>\n",
              "      <td>3</td>\n",
              "      <td>no</td>\n",
              "      <td>southeast</td>\n",
              "      <td>4449.46200</td>\n",
              "    </tr>\n",
              "    <tr>\n",
              "      <th>3</th>\n",
              "      <td>33</td>\n",
              "      <td>male</td>\n",
              "      <td>22.705</td>\n",
              "      <td>0</td>\n",
              "      <td>no</td>\n",
              "      <td>northwest</td>\n",
              "      <td>21984.47061</td>\n",
              "    </tr>\n",
              "    <tr>\n",
              "      <th>4</th>\n",
              "      <td>32</td>\n",
              "      <td>male</td>\n",
              "      <td>28.880</td>\n",
              "      <td>0</td>\n",
              "      <td>no</td>\n",
              "      <td>northwest</td>\n",
              "      <td>3866.85520</td>\n",
              "    </tr>\n",
              "  </tbody>\n",
              "</table>\n",
              "</div>\n",
              "      <button class=\"colab-df-convert\" onclick=\"convertToInteractive('df-7cc2a647-54eb-4be7-bc50-99a08f76b0ef')\"\n",
              "              title=\"Convert this dataframe to an interactive table.\"\n",
              "              style=\"display:none;\">\n",
              "        \n",
              "  <svg xmlns=\"http://www.w3.org/2000/svg\" height=\"24px\"viewBox=\"0 0 24 24\"\n",
              "       width=\"24px\">\n",
              "    <path d=\"M0 0h24v24H0V0z\" fill=\"none\"/>\n",
              "    <path d=\"M18.56 5.44l.94 2.06.94-2.06 2.06-.94-2.06-.94-.94-2.06-.94 2.06-2.06.94zm-11 1L8.5 8.5l.94-2.06 2.06-.94-2.06-.94L8.5 2.5l-.94 2.06-2.06.94zm10 10l.94 2.06.94-2.06 2.06-.94-2.06-.94-.94-2.06-.94 2.06-2.06.94z\"/><path d=\"M17.41 7.96l-1.37-1.37c-.4-.4-.92-.59-1.43-.59-.52 0-1.04.2-1.43.59L10.3 9.45l-7.72 7.72c-.78.78-.78 2.05 0 2.83L4 21.41c.39.39.9.59 1.41.59.51 0 1.02-.2 1.41-.59l7.78-7.78 2.81-2.81c.8-.78.8-2.07 0-2.86zM5.41 20L4 18.59l7.72-7.72 1.47 1.35L5.41 20z\"/>\n",
              "  </svg>\n",
              "      </button>\n",
              "      \n",
              "  <style>\n",
              "    .colab-df-container {\n",
              "      display:flex;\n",
              "      flex-wrap:wrap;\n",
              "      gap: 12px;\n",
              "    }\n",
              "\n",
              "    .colab-df-convert {\n",
              "      background-color: #E8F0FE;\n",
              "      border: none;\n",
              "      border-radius: 50%;\n",
              "      cursor: pointer;\n",
              "      display: none;\n",
              "      fill: #1967D2;\n",
              "      height: 32px;\n",
              "      padding: 0 0 0 0;\n",
              "      width: 32px;\n",
              "    }\n",
              "\n",
              "    .colab-df-convert:hover {\n",
              "      background-color: #E2EBFA;\n",
              "      box-shadow: 0px 1px 2px rgba(60, 64, 67, 0.3), 0px 1px 3px 1px rgba(60, 64, 67, 0.15);\n",
              "      fill: #174EA6;\n",
              "    }\n",
              "\n",
              "    [theme=dark] .colab-df-convert {\n",
              "      background-color: #3B4455;\n",
              "      fill: #D2E3FC;\n",
              "    }\n",
              "\n",
              "    [theme=dark] .colab-df-convert:hover {\n",
              "      background-color: #434B5C;\n",
              "      box-shadow: 0px 1px 3px 1px rgba(0, 0, 0, 0.15);\n",
              "      filter: drop-shadow(0px 1px 2px rgba(0, 0, 0, 0.3));\n",
              "      fill: #FFFFFF;\n",
              "    }\n",
              "  </style>\n",
              "\n",
              "      <script>\n",
              "        const buttonEl =\n",
              "          document.querySelector('#df-7cc2a647-54eb-4be7-bc50-99a08f76b0ef button.colab-df-convert');\n",
              "        buttonEl.style.display =\n",
              "          google.colab.kernel.accessAllowed ? 'block' : 'none';\n",
              "\n",
              "        async function convertToInteractive(key) {\n",
              "          const element = document.querySelector('#df-7cc2a647-54eb-4be7-bc50-99a08f76b0ef');\n",
              "          const dataTable =\n",
              "            await google.colab.kernel.invokeFunction('convertToInteractive',\n",
              "                                                     [key], {});\n",
              "          if (!dataTable) return;\n",
              "\n",
              "          const docLinkHtml = 'Like what you see? Visit the ' +\n",
              "            '<a target=\"_blank\" href=https://colab.research.google.com/notebooks/data_table.ipynb>data table notebook</a>'\n",
              "            + ' to learn more about interactive tables.';\n",
              "          element.innerHTML = '';\n",
              "          dataTable['output_type'] = 'display_data';\n",
              "          await google.colab.output.renderOutput(dataTable, element);\n",
              "          const docLink = document.createElement('div');\n",
              "          docLink.innerHTML = docLinkHtml;\n",
              "          element.appendChild(docLink);\n",
              "        }\n",
              "      </script>\n",
              "    </div>\n",
              "  </div>\n",
              "  "
            ]
          },
          "metadata": {},
          "execution_count": 3
        }
      ]
    },
    {
      "cell_type": "markdown",
      "source": [
        "# **Description about data**"
      ],
      "metadata": {
        "id": "GVjhf0y2CBKN"
      }
    },
    {
      "cell_type": "markdown",
      "source": [
        "Column -1 -----> Gives the age of the person\n",
        "\n",
        "Column -2 -----> Gives the gender of the person\n",
        "\n",
        "\n",
        "Column -3 -----> Gives the bmi of the person \n",
        "\n",
        "Column -4 -----> Number of children \n",
        "\n",
        "Column -5 -----> Indicates if the person is smoker or not\n",
        "\n",
        "Column -6 -----> Region of living\n",
        "\n",
        "Column -7 -----> Insurance Premium (Target varibale)"
      ],
      "metadata": {
        "id": "egU9OilBCt3M"
      }
    },
    {
      "cell_type": "markdown",
      "source": [
        "### **Data Cleaning**"
      ],
      "metadata": {
        "id": "APaMVexdMVOw"
      }
    },
    {
      "cell_type": "code",
      "source": [
        "print(df.shape)\n",
        "df.info()"
      ],
      "metadata": {
        "colab": {
          "base_uri": "https://localhost:8080/"
        },
        "id": "8U2Gbv83CFL-",
        "outputId": "db699a1f-7be7-4901-aaa9-e19c534b4fd9"
      },
      "execution_count": null,
      "outputs": [
        {
          "output_type": "stream",
          "name": "stdout",
          "text": [
            "(1338, 7)\n",
            "<class 'pandas.core.frame.DataFrame'>\n",
            "RangeIndex: 1338 entries, 0 to 1337\n",
            "Data columns (total 7 columns):\n",
            " #   Column    Non-Null Count  Dtype  \n",
            "---  ------    --------------  -----  \n",
            " 0   age       1338 non-null   int64  \n",
            " 1   sex       1338 non-null   object \n",
            " 2   bmi       1338 non-null   float64\n",
            " 3   children  1338 non-null   int64  \n",
            " 4   smoker    1338 non-null   object \n",
            " 5   region    1338 non-null   object \n",
            " 6   charges   1338 non-null   float64\n",
            "dtypes: float64(2), int64(2), object(3)\n",
            "memory usage: 73.3+ KB\n"
          ]
        }
      ]
    },
    {
      "cell_type": "markdown",
      "source": [
        "By looking at the info of the data there are no null values, and dtype is also correct for each feature and target.But droping duplicates and checking for outliers must be done."
      ],
      "metadata": {
        "id": "_lSl1c9oDfRz"
      }
    },
    {
      "cell_type": "code",
      "source": [
        "df.columns"
      ],
      "metadata": {
        "colab": {
          "base_uri": "https://localhost:8080/"
        },
        "id": "s1KW8W52EE2j",
        "outputId": "c7c3cea2-9cef-4a4a-e256-2d2eec697c02"
      },
      "execution_count": null,
      "outputs": [
        {
          "output_type": "execute_result",
          "data": {
            "text/plain": [
              "Index(['age', 'sex', 'bmi', 'children', 'smoker', 'region', 'charges'], dtype='object')"
            ]
          },
          "metadata": {},
          "execution_count": 5
        }
      ]
    },
    {
      "cell_type": "markdown",
      "source": [
        "1.Age"
      ],
      "metadata": {
        "id": "0pH2QawnEA3D"
      }
    },
    {
      "cell_type": "code",
      "source": [
        "df['age'].describe()"
      ],
      "metadata": {
        "colab": {
          "base_uri": "https://localhost:8080/"
        },
        "id": "nvBF6-6oCrf7",
        "outputId": "a4b305e9-0465-4a1c-c39f-13ca1f4b064e"
      },
      "execution_count": null,
      "outputs": [
        {
          "output_type": "execute_result",
          "data": {
            "text/plain": [
              "count    1338.000000\n",
              "mean       39.207025\n",
              "std        14.049960\n",
              "min        18.000000\n",
              "25%        27.000000\n",
              "50%        39.000000\n",
              "75%        51.000000\n",
              "max        64.000000\n",
              "Name: age, dtype: float64"
            ]
          },
          "metadata": {},
          "execution_count": 6
        }
      ]
    },
    {
      "cell_type": "code",
      "source": [
        "q1=np.quantile(df['age'],q=0.25)\n",
        "q3=np.quantile(df['age'],q=0.75)\n",
        "iqr=q3-q1\n",
        "minimum=q1-1.5*iqr \n",
        "maximum=q3+1.5*iqr\n",
        "print(minimum,maximum)"
      ],
      "metadata": {
        "colab": {
          "base_uri": "https://localhost:8080/"
        },
        "id": "ZvXn1wuWEgQ7",
        "outputId": "a90fea5d-3b9e-4978-8195-0b369db3a869"
      },
      "execution_count": null,
      "outputs": [
        {
          "output_type": "stream",
          "name": "stdout",
          "text": [
            "-9.0 87.0\n"
          ]
        }
      ]
    },
    {
      "cell_type": "markdown",
      "source": [
        "You can buy health insurance even if you are above 65 years of age if there is no age limit at the time of entry in the policy."
      ],
      "metadata": {
        "id": "GebxwbBIE2jp"
      }
    },
    {
      "cell_type": "markdown",
      "source": [
        "2.Sex"
      ],
      "metadata": {
        "id": "nNtYeGm1E6Oc"
      }
    },
    {
      "cell_type": "code",
      "source": [
        "df['sex'].unique() ## Categorical variable must be encoded"
      ],
      "metadata": {
        "colab": {
          "base_uri": "https://localhost:8080/"
        },
        "id": "mXSXbwZPE-ba",
        "outputId": "2d5692d1-6cd5-4d34-a793-e05ad22c8430"
      },
      "execution_count": null,
      "outputs": [
        {
          "output_type": "execute_result",
          "data": {
            "text/plain": [
              "array(['female', 'male'], dtype=object)"
            ]
          },
          "metadata": {},
          "execution_count": 8
        }
      ]
    },
    {
      "cell_type": "markdown",
      "source": [
        "3.BMI (Body Mass Index)"
      ],
      "metadata": {
        "id": "YnX9d-WsFLCL"
      }
    },
    {
      "cell_type": "code",
      "source": [
        "df['bmi'].describe()"
      ],
      "metadata": {
        "colab": {
          "base_uri": "https://localhost:8080/"
        },
        "id": "r8MteEWxFN_T",
        "outputId": "851134ee-1238-4334-ec56-aaa64bdac7b4"
      },
      "execution_count": null,
      "outputs": [
        {
          "output_type": "execute_result",
          "data": {
            "text/plain": [
              "count    1338.000000\n",
              "mean       30.663397\n",
              "std         6.098187\n",
              "min        15.960000\n",
              "25%        26.296250\n",
              "50%        30.400000\n",
              "75%        34.693750\n",
              "max        53.130000\n",
              "Name: bmi, dtype: float64"
            ]
          },
          "metadata": {},
          "execution_count": 9
        }
      ]
    },
    {
      "cell_type": "code",
      "source": [
        "q1=np.quantile(df['bmi'],q=0.25)\n",
        "q3=np.quantile(df['bmi'],q=0.75)\n",
        "iqr=q3-q1\n",
        "minimum=q1-1.5*iqr \n",
        "maximum=q3+1.5*iqr\n",
        "print(minimum,maximum)"
      ],
      "metadata": {
        "colab": {
          "base_uri": "https://localhost:8080/"
        },
        "id": "8gmHX2YDFUns",
        "outputId": "1ae45ec2-087f-4f95-a5e4-71cb03951eff"
      },
      "execution_count": null,
      "outputs": [
        {
          "output_type": "stream",
          "name": "stdout",
          "text": [
            "13.7 47.290000000000006\n"
          ]
        }
      ]
    },
    {
      "cell_type": "markdown",
      "source": [
        "BMI\tWeight          Status\n",
        "\n",
        "Below 18.5\t      Underweight\n",
        "\n",
        "\n",
        "18.5—24.9\t        Healthy Weight\n",
        "\n",
        "25.0—29.9\t        Overweight\n",
        "\n",
        "30.0 and Above\t  Obese"
      ],
      "metadata": {
        "id": "G54pBBm2Fnts"
      }
    },
    {
      "cell_type": "markdown",
      "source": [
        "Values above 30 is anyways obese so we clip it to the maximum value to avoid these outliers"
      ],
      "metadata": {
        "id": "SZER9OgDF83a"
      }
    },
    {
      "cell_type": "code",
      "source": [
        "df['bmi']=df['bmi'].clip(minimum,maximum)"
      ],
      "metadata": {
        "id": "x5qXBwq-F8Sq"
      },
      "execution_count": null,
      "outputs": []
    },
    {
      "cell_type": "markdown",
      "source": [
        "4.Children"
      ],
      "metadata": {
        "id": "EdRKF2oRGQU6"
      }
    },
    {
      "cell_type": "code",
      "source": [
        "df['children'].unique()  "
      ],
      "metadata": {
        "colab": {
          "base_uri": "https://localhost:8080/"
        },
        "id": "iPJ_YKU3GTBC",
        "outputId": "0d330581-5e79-4a6f-9e49-12208c316634"
      },
      "execution_count": null,
      "outputs": [
        {
          "output_type": "execute_result",
          "data": {
            "text/plain": [
              "array([0, 1, 3, 2, 5, 4])"
            ]
          },
          "metadata": {},
          "execution_count": 12
        }
      ]
    },
    {
      "cell_type": "markdown",
      "source": [
        "5.Smoker"
      ],
      "metadata": {
        "id": "SokhSB5yGwZy"
      }
    },
    {
      "cell_type": "code",
      "source": [
        "df['smoker'].unique() #must be encoded"
      ],
      "metadata": {
        "colab": {
          "base_uri": "https://localhost:8080/"
        },
        "id": "qENC4e65G1aD",
        "outputId": "fc58ee30-7e94-4dba-bd12-233f76e05881"
      },
      "execution_count": null,
      "outputs": [
        {
          "output_type": "execute_result",
          "data": {
            "text/plain": [
              "array(['yes', 'no'], dtype=object)"
            ]
          },
          "metadata": {},
          "execution_count": 13
        }
      ]
    },
    {
      "cell_type": "markdown",
      "source": [
        "6.Region"
      ],
      "metadata": {
        "id": "J5dDSLCjG7lq"
      }
    },
    {
      "cell_type": "code",
      "source": [
        "df['region'].unique()  # must be encoded"
      ],
      "metadata": {
        "colab": {
          "base_uri": "https://localhost:8080/"
        },
        "id": "930mp30rHDil",
        "outputId": "72a9c4b3-0155-4ba5-92d6-dd0aedfaf8f8"
      },
      "execution_count": null,
      "outputs": [
        {
          "output_type": "execute_result",
          "data": {
            "text/plain": [
              "array(['southwest', 'southeast', 'northwest', 'northeast'], dtype=object)"
            ]
          },
          "metadata": {},
          "execution_count": 14
        }
      ]
    },
    {
      "cell_type": "code",
      "source": [
        "df['region'].value_counts()"
      ],
      "metadata": {
        "colab": {
          "base_uri": "https://localhost:8080/"
        },
        "id": "ZnCP16qOK9jp",
        "outputId": "fe240a5c-e598-4012-e559-5e69288712fa"
      },
      "execution_count": null,
      "outputs": [
        {
          "output_type": "execute_result",
          "data": {
            "text/plain": [
              "southeast    364\n",
              "southwest    325\n",
              "northwest    325\n",
              "northeast    324\n",
              "Name: region, dtype: int64"
            ]
          },
          "metadata": {},
          "execution_count": 15
        }
      ]
    },
    {
      "cell_type": "markdown",
      "source": [
        "7.Insurance Premium"
      ],
      "metadata": {
        "id": "DjU7eKTkHKrb"
      }
    },
    {
      "cell_type": "code",
      "source": [
        "df['charges']"
      ],
      "metadata": {
        "colab": {
          "base_uri": "https://localhost:8080/"
        },
        "id": "jrgOlKq1HSvb",
        "outputId": "a265aacd-9363-445f-dcfb-25c08d6adfb5"
      },
      "execution_count": null,
      "outputs": [
        {
          "output_type": "execute_result",
          "data": {
            "text/plain": [
              "0       16884.92400\n",
              "1        1725.55230\n",
              "2        4449.46200\n",
              "3       21984.47061\n",
              "4        3866.85520\n",
              "           ...     \n",
              "1333    10600.54830\n",
              "1334     2205.98080\n",
              "1335     1629.83350\n",
              "1336     2007.94500\n",
              "1337    29141.36030\n",
              "Name: charges, Length: 1338, dtype: float64"
            ]
          },
          "metadata": {},
          "execution_count": 16
        }
      ]
    },
    {
      "cell_type": "markdown",
      "source": [
        "## **Exploratory Data Analysis**"
      ],
      "metadata": {
        "id": "f49HYk9NHYzq"
      }
    },
    {
      "cell_type": "code",
      "source": [
        "df.columns"
      ],
      "metadata": {
        "colab": {
          "base_uri": "https://localhost:8080/"
        },
        "id": "np-HlXjUHdWE",
        "outputId": "4c6fff5c-56f4-41ca-bf45-14365d507db7"
      },
      "execution_count": null,
      "outputs": [
        {
          "output_type": "execute_result",
          "data": {
            "text/plain": [
              "Index(['age', 'sex', 'bmi', 'children', 'smoker', 'region', 'charges'], dtype='object')"
            ]
          },
          "metadata": {},
          "execution_count": 17
        }
      ]
    },
    {
      "cell_type": "code",
      "source": [
        "df.groupby(['sex'])['charges'].mean().plot(kind='bar')"
      ],
      "metadata": {
        "colab": {
          "base_uri": "https://localhost:8080/",
          "height": 321
        },
        "id": "ednEKCJUHgdl",
        "outputId": "bb330428-ee39-449b-be3d-ea983919d9c6"
      },
      "execution_count": null,
      "outputs": [
        {
          "output_type": "execute_result",
          "data": {
            "text/plain": [
              "<matplotlib.axes._subplots.AxesSubplot at 0x7fd0f8e19fd0>"
            ]
          },
          "metadata": {},
          "execution_count": 18
        },
        {
          "output_type": "display_data",
          "data": {
            "text/plain": [
              "<Figure size 432x288 with 1 Axes>"
            ],
            "image/png": "[encoded data removed]"
          },
          "metadata": {
            "needs_background": "light"
          }
        }
      ]
    },
    {
      "cell_type": "markdown",
      "source": [
        "On an average men pay higher premium than female.\n",
        "\n",
        "Studies have shown that the proportion of deaths and disability from heart disease was significantly higher in men than in women. This explains why health insurance premiums are higher for men than they are for women."
      ],
      "metadata": {
        "id": "beKTxUsNKDP2"
      }
    },
    {
      "cell_type": "code",
      "source": [
        "df.groupby(['children'])['charges'].mean().plot(kind='bar')"
      ],
      "metadata": {
        "colab": {
          "base_uri": "https://localhost:8080/",
          "height": 295
        },
        "id": "V01bQI-9IYJh",
        "outputId": "17cb4504-4a68-4bdf-a028-a50b5142c951"
      },
      "execution_count": null,
      "outputs": [
        {
          "output_type": "execute_result",
          "data": {
            "text/plain": [
              "<matplotlib.axes._subplots.AxesSubplot at 0x7fd0f881ee50>"
            ]
          },
          "metadata": {},
          "execution_count": 21
        },
        {
          "output_type": "display_data",
          "data": {
            "text/plain": [
              "<Figure size 432x288 with 1 Axes>"
            ],
            "image/png": "[encoded data removed]"
          },
          "metadata": {
            "needs_background": "light"
          }
        }
      ]
    },
    {
      "cell_type": "code",
      "source": [
        "df.groupby(['region'])['charges'].mean().plot(kind='bar')"
      ],
      "metadata": {
        "colab": {
          "base_uri": "https://localhost:8080/",
          "height": 338
        },
        "id": "aTVCHObeI7Rb",
        "outputId": "f12ecb28-21ec-435f-9e0c-6af8ff28577a"
      },
      "execution_count": null,
      "outputs": [
        {
          "output_type": "execute_result",
          "data": {
            "text/plain": [
              "<matplotlib.axes._subplots.AxesSubplot at 0x7fd0f8eb3fd0>"
            ]
          },
          "metadata": {},
          "execution_count": 20
        },
        {
          "output_type": "display_data",
          "data": {
            "text/plain": [
              "<Figure size 432x288 with 1 Axes>"
            ],
            "image/png": "[encoded data removed]"
          },
          "metadata": {
            "needs_background": "light"
          }
        }
      ]
    },
    {
      "cell_type": "markdown",
      "source": [
        "SouthEast -----> Alabama, Florida, Georgia, Kentucky, Maryland, Mississippi, North Carolina, South Carolina, Tennessee, Virginia and West Virginia\n",
        "\n",
        "NorthEast -----> Connecticut, Delaware, District of Columbia, Maine, Maryland, Massachusetts, New Hampshire, New Jersey, New York, pennsylvania, puerto Rico, Rhode Island, Vermont\n",
        "\n",
        "NorthWest -----> Oregon, Washington, Idaho, Montana and Wyoming \n",
        "\n",
        "SouthWest -----> Arizona · New Mexico Others, depending on boundaries used: California · Colorado · Nevada · Utah · Oklahoma"
      ],
      "metadata": {
        "id": "4vZu5SHVJL5z"
      }
    },
    {
      "cell_type": "markdown",
      "source": [
        "Our location has a direct impact on your health insurance premium. That’s because the hospitalization expenses in smaller cities are lesser as compared to metro and other major cities."
      ],
      "metadata": {
        "id": "NqvPzw_zK2zR"
      }
    },
    {
      "cell_type": "code",
      "source": [
        "df.groupby(['smoker'])['charges'].mean().plot(kind='bar')"
      ],
      "metadata": {
        "colab": {
          "base_uri": "https://localhost:8080/",
          "height": 304
        },
        "id": "XY3wK1wcLV9n",
        "outputId": "85eb8728-e710-4f4e-bce4-f398772b29bc"
      },
      "execution_count": null,
      "outputs": [
        {
          "output_type": "execute_result",
          "data": {
            "text/plain": [
              "<matplotlib.axes._subplots.AxesSubplot at 0x7f2c2797dd10>"
            ]
          },
          "metadata": {},
          "execution_count": 21
        },
        {
          "output_type": "display_data",
          "data": {
            "text/plain": [
              "<Figure size 432x288 with 1 Axes>"
            ],
            "image/png": "[encoded data removed]"
          },
          "metadata": {
            "needs_background": "light"
          }
        }
      ]
    },
    {
      "cell_type": "markdown",
      "source": [
        "A person who smokes has high possibility of getting serious health issues, so smokers have to pay more premium"
      ],
      "metadata": {
        "id": "ptkgch2tLaIh"
      }
    },
    {
      "cell_type": "code",
      "source": [
        "df.plot(x='bmi',y='charges',kind='scatter')\n",
        "plt.show()"
      ],
      "metadata": {
        "colab": {
          "base_uri": "https://localhost:8080/",
          "height": 279
        },
        "id": "8i-c9hE_LwLp",
        "outputId": "556afd3d-99dc-4d21-e7b6-1e89cb91f7db"
      },
      "execution_count": null,
      "outputs": [
        {
          "output_type": "display_data",
          "data": {
            "text/plain": [
              "<Figure size 432x288 with 1 Axes>"
            ],
            "image/png": "[encoded data removed]"
          },
          "metadata": {
            "needs_background": "light"
          }
        }
      ]
    },
    {
      "cell_type": "code",
      "source": [
        "df['bmi'].corr(df['charges']) # approx 0.2 very feable relation ?????"
      ],
      "metadata": {
        "colab": {
          "base_uri": "https://localhost:8080/"
        },
        "id": "Txa1AgwuMB9D",
        "outputId": "e364e361-ff74-438c-d742-962a7a412508"
      },
      "execution_count": null,
      "outputs": [
        {
          "output_type": "execute_result",
          "data": {
            "text/plain": [
              "0.1989970659441764"
            ]
          },
          "metadata": {},
          "execution_count": 25
        }
      ]
    },
    {
      "cell_type": "markdown",
      "source": [
        " A higher BMI means that the individual is at a higher risk of heart diseases and might frequently visit the hospitals due to weight-related issues, very much inline with our knowledge."
      ],
      "metadata": {
        "id": "KmtdYXYrMaap"
      }
    },
    {
      "cell_type": "code",
      "source": [
        "df.plot(x='age',y='charges',kind='scatter')\n",
        "plt.show()\n",
        "df['age'].corr(df['charges']) "
      ],
      "metadata": {
        "colab": {
          "base_uri": "https://localhost:8080/",
          "height": 296
        },
        "id": "Yq9kaJdvKeTx",
        "outputId": "428a7a32-6b80-409f-dbac-59b9a5483514"
      },
      "execution_count": null,
      "outputs": [
        {
          "output_type": "display_data",
          "data": {
            "text/plain": [
              "<Figure size 432x288 with 1 Axes>"
            ],
            "image/png": "[encoded data removed]"
          },
          "metadata": {
            "needs_background": "light"
          }
        },
        {
          "output_type": "execute_result",
          "data": {
            "text/plain": [
              "0.29900819333064754"
            ]
          },
          "metadata": {},
          "execution_count": 26
        }
      ]
    },
    {
      "cell_type": "markdown",
      "source": [
        "As the age increases the health insurance premium also increases.This is very much inline with our knowledge."
      ],
      "metadata": {
        "id": "QnzQUTPYKsZm"
      }
    },
    {
      "cell_type": "markdown",
      "source": [
        "## **Encoding Data**"
      ],
      "metadata": {
        "id": "GTBA5XrrK6zA"
      }
    },
    {
      "cell_type": "code",
      "source": [
        "df.columns"
      ],
      "metadata": {
        "colab": {
          "base_uri": "https://localhost:8080/"
        },
        "id": "xSZFwIBJK2YY",
        "outputId": "a5729719-72ea-41f3-b8b3-86a0c75f3642"
      },
      "execution_count": null,
      "outputs": [
        {
          "output_type": "execute_result",
          "data": {
            "text/plain": [
              "Index(['age', 'sex', 'bmi', 'children', 'smoker', 'region', 'charges'], dtype='object')"
            ]
          },
          "metadata": {},
          "execution_count": 27
        }
      ]
    },
    {
      "cell_type": "code",
      "source": [
        "df['sex']=[0 if x== 'male' else 1 for x in df['sex']]\n",
        "df['sex'].unique()"
      ],
      "metadata": {
        "colab": {
          "base_uri": "https://localhost:8080/"
        },
        "id": "mVqpkEUnMl2h",
        "outputId": "f6d5026c-e850-4b0b-8ac9-250211bb23e7"
      },
      "execution_count": null,
      "outputs": [
        {
          "output_type": "execute_result",
          "data": {
            "text/plain": [
              "array([1, 0])"
            ]
          },
          "metadata": {},
          "execution_count": 28
        }
      ]
    },
    {
      "cell_type": "code",
      "source": [
        "df['smoker']=[0 if x=='no' else 1 for x in df['smoker']]\n",
        "df['smoker'].unique()"
      ],
      "metadata": {
        "colab": {
          "base_uri": "https://localhost:8080/"
        },
        "id": "6H6csgcxNE_o",
        "outputId": "7bd5d526-d74d-46e7-9376-b1d0415eb4a9"
      },
      "execution_count": null,
      "outputs": [
        {
          "output_type": "execute_result",
          "data": {
            "text/plain": [
              "array([1, 0])"
            ]
          },
          "metadata": {},
          "execution_count": 29
        }
      ]
    },
    {
      "cell_type": "code",
      "source": [
        "from sklearn.preprocessing import OneHotEncoder \n",
        "enc=OneHotEncoder() \n",
        "enc_data=pd.DataFrame(enc.fit_transform(df[['region']]).toarray())"
      ],
      "metadata": {
        "id": "A-L8FMzNNfWR"
      },
      "execution_count": null,
      "outputs": []
    },
    {
      "cell_type": "code",
      "source": [
        "New_df=df.join(enc_data)\n",
        "New_df.columns   # 3-> Southwest 2-> Southeast 1->northwest 0-> northeast"
      ],
      "metadata": {
        "colab": {
          "base_uri": "https://localhost:8080/"
        },
        "id": "_YPnnfelOCXw",
        "outputId": "5663e0dd-a244-4fe9-9058-566158485842"
      },
      "execution_count": null,
      "outputs": [
        {
          "output_type": "execute_result",
          "data": {
            "text/plain": [
              "Index(['age', 'sex', 'bmi', 'children', 'smoker', 'region', 'charges', 0, 1, 2,\n",
              "       3],\n",
              "      dtype='object')"
            ]
          },
          "metadata": {},
          "execution_count": 31
        }
      ]
    },
    {
      "cell_type": "code",
      "source": [
        "New_df=New_df.rename(columns={0:'NorthEast',1:'NorthWest',2:'SouthEast',3:'SouthWest'})"
      ],
      "metadata": {
        "id": "FEgVRR8wOV9S"
      },
      "execution_count": null,
      "outputs": []
    },
    {
      "cell_type": "code",
      "source": [
        "New_df.drop('region',axis=1,inplace=True)"
      ],
      "metadata": {
        "id": "_2JMWDs_OR6A"
      },
      "execution_count": null,
      "outputs": []
    },
    {
      "cell_type": "code",
      "source": [
        "New_df.columns"
      ],
      "metadata": {
        "colab": {
          "base_uri": "https://localhost:8080/"
        },
        "id": "Vl7sQeCcPD9T",
        "outputId": "bc14f6ba-0c0d-4d16-b426-073c125698b4"
      },
      "execution_count": null,
      "outputs": [
        {
          "output_type": "execute_result",
          "data": {
            "text/plain": [
              "Index(['age', 'sex', 'bmi', 'children', 'smoker', 'charges', 'NorthEast',\n",
              "       'NorthWest', 'SouthEast', 'SouthWest'],\n",
              "      dtype='object')"
            ]
          },
          "metadata": {},
          "execution_count": 34
        }
      ]
    },
    {
      "cell_type": "markdown",
      "source": [
        "# **Splitting Data**"
      ],
      "metadata": {
        "id": "2kKkdDnKPQtx"
      }
    },
    {
      "cell_type": "code",
      "source": [
        "X=New_df[['age', 'sex', 'bmi', 'children', 'smoker','NorthEast','NorthWest', 'SouthEast', 'SouthWest']]\n",
        "y=New_df['charges']"
      ],
      "metadata": {
        "id": "Yqw1-1N9PTvf"
      },
      "execution_count": null,
      "outputs": []
    },
    {
      "cell_type": "code",
      "source": [
        "from sklearn.model_selection import train_test_split \n",
        "X_train,X_test,y_train,y_test=train_test_split(X,y,test_size=0.2,random_state=7)"
      ],
      "metadata": {
        "id": "rPI3htrbQVVw"
      },
      "execution_count": null,
      "outputs": []
    },
    {
      "cell_type": "markdown",
      "source": [
        "# **Scaling Data**"
      ],
      "metadata": {
        "id": "20ZCcJ0BQoGZ"
      }
    },
    {
      "cell_type": "code",
      "source": [
        "from sklearn.preprocessing import StandardScaler \n",
        "scale =StandardScaler() \n",
        "X_train=scale.fit_transform(X_train)\n",
        "X_test=scale.transform(X_test)"
      ],
      "metadata": {
        "id": "WW0Y4XlNQrhI"
      },
      "execution_count": null,
      "outputs": []
    },
    {
      "cell_type": "markdown",
      "source": [
        "# **Linear Regression**"
      ],
      "metadata": {
        "id": "9jbJTPSVRC7J"
      }
    },
    {
      "cell_type": "code",
      "source": [
        "from sklearn.linear_model import LinearRegression \n",
        "regg=LinearRegression()\n",
        "regg.fit(X_train,y_train)\n",
        "y_pred=regg.predict(X_test)"
      ],
      "metadata": {
        "id": "5ctAkIKLRG52"
      },
      "execution_count": null,
      "outputs": []
    },
    {
      "cell_type": "code",
      "source": [
        "from sklearn import metrics\n",
        "a=metrics.r2_score(y_test,y_pred)\n",
        "print(a)"
      ],
      "metadata": {
        "colab": {
          "base_uri": "https://localhost:8080/"
        },
        "id": "ne3mQhR_Rrdn",
        "outputId": "681d54e2-daaf-4f84-e1c0-c6e05565bae4"
      },
      "execution_count": null,
      "outputs": [
        {
          "output_type": "stream",
          "name": "stdout",
          "text": [
            "0.7641771240760509\n"
          ]
        }
      ]
    },
    {
      "cell_type": "markdown",
      "source": [
        "# **K Nearest neighbors**"
      ],
      "metadata": {
        "id": "WgZz83m2R0Fg"
      }
    },
    {
      "cell_type": "code",
      "source": [
        "from sklearn.neighbors import KNeighborsRegressor\n",
        "knn=KNeighborsRegressor(n_neighbors=3).fit(X_train,y_train)\n",
        "y_pred=knn.predict(X_test)"
      ],
      "metadata": {
        "id": "PM1gEpUWRzhP"
      },
      "execution_count": null,
      "outputs": []
    },
    {
      "cell_type": "code",
      "source": [
        "from sklearn import metrics\n",
        "a=metrics.r2_score(y_test,y_pred)\n",
        "print(a)"
      ],
      "metadata": {
        "colab": {
          "base_uri": "https://localhost:8080/"
        },
        "id": "O6k05ZLMSywi",
        "outputId": "c2b09709-408f-40e3-d9f4-c43c9186a6c9"
      },
      "execution_count": null,
      "outputs": [
        {
          "output_type": "stream",
          "name": "stdout",
          "text": [
            "0.8231177426161005\n"
          ]
        }
      ]
    },
    {
      "cell_type": "markdown",
      "source": [
        "# **Support Vector Machine**"
      ],
      "metadata": {
        "id": "30ZyTLDXS20O"
      }
    },
    {
      "cell_type": "code",
      "source": [
        "from sklearn import svm \n",
        "sup=svm.SVR(kernel='rbf',gamma='scale')\n",
        "sup.fit(X_train,y_train)\n",
        "y_pred=sup.predict(X_test)"
      ],
      "metadata": {
        "id": "Lwd0MhMnS6SB"
      },
      "execution_count": null,
      "outputs": []
    },
    {
      "cell_type": "code",
      "source": [
        "from sklearn import metrics\n",
        "a=metrics.r2_score(y_test,y_pred)\n",
        "print(a)"
      ],
      "metadata": {
        "colab": {
          "base_uri": "https://localhost:8080/"
        },
        "id": "_rd_LYNZTSJw",
        "outputId": "461e2314-c87a-4fa8-c5a5-e2c347538291"
      },
      "execution_count": null,
      "outputs": [
        {
          "output_type": "stream",
          "name": "stdout",
          "text": [
            "-0.0988555603389587\n"
          ]
        }
      ]
    },
    {
      "cell_type": "markdown",
      "source": [
        "# **Descision Tree**"
      ],
      "metadata": {
        "id": "06UsAKo_TpHZ"
      }
    },
    {
      "cell_type": "code",
      "source": [
        "from sklearn.tree import DecisionTreeRegressor \n",
        "dt=DecisionTreeRegressor()\n",
        "dt.fit(X_train,y_train)\n",
        "y_pred=dt.predict(X_test)"
      ],
      "metadata": {
        "id": "Rj-GdxQ7TwCd"
      },
      "execution_count": null,
      "outputs": []
    },
    {
      "cell_type": "code",
      "source": [
        "from sklearn import metrics\n",
        "a=metrics.r2_score(y_test,y_pred)\n",
        "print(a)"
      ],
      "metadata": {
        "colab": {
          "base_uri": "https://localhost:8080/"
        },
        "id": "3c6jb8bkKdoY",
        "outputId": "7b2c6e26-62d8-44e4-8284-41a63b0251ab"
      },
      "execution_count": null,
      "outputs": [
        {
          "output_type": "stream",
          "name": "stdout",
          "text": [
            "0.7505431044838379\n"
          ]
        }
      ]
    },
    {
      "cell_type": "markdown",
      "source": [
        "# **Conclusion**"
      ],
      "metadata": {
        "id": "Av9I-TWXLcHf"
      }
    },
    {
      "cell_type": "markdown",
      "source": [
        "The problem was to predict the health insurance premium for the people in The United States of America and since this was a regression problem, we trained the machine with the following algorithms.\n",
        "1. Linear Regression\n",
        "\n",
        "2. K Nearest Neighbors\n",
        "\n",
        "3. Support Vector Machine\n",
        "\n",
        "4. Decision Tree"
      ],
      "metadata": {
        "id": "rhe1ddeVLgxQ"
      }
    },
    {
      "cell_type": "markdown",
      "source": [
        "Based on the evaluation metrics.\n",
        "\n",
        "**Linear Regression**       - 0.764\n",
        "\n",
        "**K Nearest Neighbors**     - 0.823\n",
        "\n",
        "**Support Vector Machine**  - -0.098\n",
        "\n",
        "**Decision Tree**           - 0.75"
      ],
      "metadata": {
        "id": "e8_Dkj526pVc"
      }
    },
    {
      "cell_type": "markdown",
      "source": [
        "K Nearest Neighbors is the better model to predict the medical inusrance premium."
      ],
      "metadata": {
        "id": "sOUQpixB7Yk0"
      }
    }
  ]
}